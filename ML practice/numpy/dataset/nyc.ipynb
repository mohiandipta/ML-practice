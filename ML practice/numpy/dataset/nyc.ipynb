{
 "cells": [
  {
   "cell_type": "code",
   "execution_count": 2,
   "metadata": {},
   "outputs": [],
   "source": [
    "import numpy as np"
   ]
  },
  {
   "cell_type": "code",
   "execution_count": 4,
   "metadata": {},
   "outputs": [],
   "source": [
    "taxi = np.genfromtxt('nyc_taxis.csv',delimiter=',',skip_header=True)"
   ]
  },
  {
   "cell_type": "markdown",
   "metadata": {},
   "source": [
    "Calculating the speed"
   ]
  },
  {
   "cell_type": "code",
   "execution_count": 7,
   "metadata": {},
   "outputs": [
    {
     "name": "stdout",
     "output_type": "stream",
     "text": [
      "[37.11340206 38.58157895 31.27222982 ... 22.29907867 42.41551247\n",
      " 36.90473407]\n"
     ]
    }
   ],
   "source": [
    "speed = taxi[:,7]/ (taxi[:,8]/3600)\n",
    "#print(speed)"
   ]
  }
 ],
 "metadata": {
  "interpreter": {
   "hash": "9698e75aed8d5d7895db0e626ab043ac2a17db5fe821cd3fe2519ffd06c991be"
  },
  "kernelspec": {
   "display_name": "Python 3.8.10 64-bit",
   "name": "python3"
  },
  "language_info": {
   "codemirror_mode": {
    "name": "ipython",
    "version": 3
   },
   "file_extension": ".py",
   "mimetype": "text/x-python",
   "name": "python",
   "nbconvert_exporter": "python",
   "pygments_lexer": "ipython3",
   "version": "3.8.10"
  },
  "orig_nbformat": 4
 },
 "nbformat": 4,
 "nbformat_minor": 2
}
